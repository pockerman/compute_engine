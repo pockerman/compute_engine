{
 "cells": [
  {
   "cell_type": "markdown",
   "metadata": {},
   "source": [
    "# Example 24: Sampling from multivariate normal distribution"
   ]
  },
  {
   "cell_type": "markdown",
   "metadata": {},
   "source": [
    "## Contents\n",
    "\n",
    "* [Overview](#overview) \n",
    "\t* [Multivariate Normal Distribution](#pure_pursuit_tracking)\n",
    "* [Include files](#include_files)\n",
    "* [The main function](#m_func)\n",
    "* [Results](#results)\n",
    "* [Source Code](#source_code)"
   ]
  },
  {
   "cell_type": "markdown",
   "metadata": {},
   "source": [
    "## <a name=\"overview\"></a> Overview"
   ]
  },
  {
   "cell_type": "markdown",
   "metadata": {},
   "source": [
    "### <a name=\"pure_pursuit_tracking\"></a> Multivariate Normal Distribution"
   ]
  },
  {
   "cell_type": "markdown",
   "metadata": {},
   "source": [
    "## <a name=\"include_files\"></a> Include files"
   ]
  },
  {
   "cell_type": "markdown",
   "metadata": {},
   "source": [
    "```\n",
    "#include \"cubic_engine/base/cubic_engine_types.h\"\n",
    "#include \"kernel/utilities/csv_file_writer.h\"\n",
    "#include \"kernel/maths/statistics/multivariate_normal_distribution.h\"\n",
    "\n",
    "#include <iostream>\n",
    "```"
   ]
  },
  {
   "cell_type": "markdown",
   "metadata": {},
   "source": [
    "## <a name=\"m_func\"></a> The main function"
   ]
  },
  {
   "cell_type": "markdown",
   "metadata": {},
   "source": [
    "```\n",
    "namespace example{\n",
    "using cengine::uint_t;\n",
    "using cengine::real_t;\n",
    "using cengine::DynVec;\n",
    "using cengine::DynMat;\n",
    "using kernel::maths::stats::MultiNormalDist;\n",
    "using kernel::CSVWriter;\n",
    "}\n",
    "\n",
    "\n",
    "int main(){\n",
    "\n",
    "    using namespace example;\n",
    "\n",
    "    try{\n",
    "\n",
    "        {\n",
    "            DynVec<real_t> mu(2, 0.0);\n",
    "            mu[0] = 1.0;\n",
    "            mu[1] = 2.0;\n",
    "            DynMat<real_t> sigma(2,2, 0.0);\n",
    "            sigma(0,0) = 1.0;\n",
    "            sigma(1,1) = 4.0;\n",
    "            sigma(0, 1) = 0.6;\n",
    "            sigma(1, 0) = 0.6;\n",
    "\n",
    "            MultiNormalDist n(mu, sigma);\n",
    "\n",
    "            CSVWriter w(\"sample_1.csv\", ',', true);\n",
    "            std::vector<std::string> names{\"X1\", \"X2\"};\n",
    "            w.write_column_names(names);\n",
    "\n",
    "            for(uint_t itr=0; itr<1000; ++itr){\n",
    "\n",
    "                auto point = n.sample();\n",
    "                w.write_row(point);\n",
    "            }\n",
    "        }\n",
    "\n",
    "        {\n",
    "            DynVec<real_t> mu(2, 0.0);\n",
    "            DynMat<real_t> sigma(2,2, 0.0);\n",
    "            sigma(0,0) = 1.0;\n",
    "            sigma(1,1) = 2.0;\n",
    "\n",
    "            MultiNormalDist n(mu, sigma);\n",
    "\n",
    "            CSVWriter w(\"sample_2.csv\", ',', true);\n",
    "            std::vector<std::string> names{\"X1\", \"X2\"};\n",
    "            w.write_column_names(names);\n",
    "\n",
    "            for(uint_t itr=0; itr<1000; ++itr){\n",
    "\n",
    "                auto point = n.sample();\n",
    "                w.write_row(point);\n",
    "            }\n",
    "        }\n",
    "\n",
    "    }\n",
    "    catch(std::exception& e){\n",
    "\n",
    "        std::cerr<<e.what()<<std::endl;\n",
    "    }\n",
    "    catch(...){\n",
    "\n",
    "        std::cerr<<\"Unknown exception occured\"<<std::endl;\n",
    "    }\n",
    "\n",
    "    return 0;\n",
    "}\n",
    "\n",
    "```"
   ]
  },
  {
   "cell_type": "markdown",
   "metadata": {},
   "source": [
    "## <a name=\"results\"></a> Results"
   ]
  },
  {
   "cell_type": "markdown",
   "metadata": {},
   "source": [
    "<img src=\"plot_1.png\"\n",
    "     alt=\"Position view\"\n",
    "     style=\"float: left; margin-right: 10px;\" />"
   ]
  },
  {
   "cell_type": "markdown",
   "metadata": {},
   "source": [
    "<img src=\"plot_2.png\"\n",
    "     alt=\"Position view\"\n",
    "     style=\"float: left; margin-right: 10px;\" />"
   ]
  },
  {
   "cell_type": "markdown",
   "metadata": {},
   "source": [
    "## <a name=\"source_code\"></a> Source Code"
   ]
  },
  {
   "cell_type": "markdown",
   "metadata": {},
   "source": []
  }
 ],
 "metadata": {
  "kernelspec": {
   "display_name": "Python 3",
   "language": "python",
   "name": "python3"
  },
  "language_info": {
   "codemirror_mode": {
    "name": "ipython",
    "version": 3
   },
   "file_extension": ".py",
   "mimetype": "text/x-python",
   "name": "python",
   "nbconvert_exporter": "python",
   "pygments_lexer": "ipython3",
   "version": "3.7.6"
  }
 },
 "nbformat": 4,
 "nbformat_minor": 4
}
