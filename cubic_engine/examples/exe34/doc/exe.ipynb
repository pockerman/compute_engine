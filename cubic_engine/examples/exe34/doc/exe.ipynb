{
 "cells": [
  {
   "cell_type": "markdown",
   "metadata": {},
   "source": [
    "# Example 34: Clustering Purity"
   ]
  },
  {
   "cell_type": "markdown",
   "metadata": {},
   "source": [
    "## Contents"
   ]
  },
  {
   "cell_type": "markdown",
   "metadata": {},
   "source": [
    "* [Overview](#overview) \n",
    "    * [Clustering purity](#ekf)\n",
    "* [Include files](#include_files)\n",
    "* [The main function](#m_func)\n",
    "* [Results](#results)\n",
    "* [Source Code](#source_code)"
   ]
  },
  {
   "cell_type": "markdown",
   "metadata": {},
   "source": [
    "## <a name=\"overview\"></a> Overview\n"
   ]
  },
  {
   "cell_type": "markdown",
   "metadata": {},
   "source": [
    "## <a name=\"include_files\"></a> Include files"
   ]
  },
  {
   "cell_type": "markdown",
   "metadata": {},
   "source": [
    "```\n",
    "#include \"cubic_engine/base/cubic_engine_types.h\"\n",
    "#include \"cubic_engine/ml/unsupervised_learning/serial_kmeans.h\"\n",
    "#include \"cubic_engine/ml/unsupervised_learning/utils/cluster.h\"\n",
    "#include \"cubic_engine/ml/unsupervised_learning/utils/kmeans_control.h\"\n",
    "\n",
    "#include \"kernel/utilities/data_set_loaders.h\"\n",
    "#include \"kernel/maths/matrix_traits.h\"\n",
    "#include \"kernel/data_structs/data_set_wrapper.hpp\"\n",
    "#include \"kernel/maths/lp_metric.h\"\n",
    "#include \"kernel/maths/matrix_utilities.h\"\n",
    "#include \"kernel/base/kernel_consts.h\"\n",
    "\n",
    "#include <iostream>\n",
    "#include <map>\n",
    "#include <vector>\n",
    "\n",
    "```"
   ]
  },
  {
   "cell_type": "markdown",
   "metadata": {},
   "source": [
    "## <a name=\"m_func\"></a> The main function"
   ]
  },
  {
   "cell_type": "markdown",
   "metadata": {},
   "source": [
    "```\n",
    "namespace example\n",
    "{\n",
    "\n",
    "using cengine::uint_t;\n",
    "using cengine::real_t;\n",
    "using cengine::DynMat;\n",
    "using cengine::DynVec;\n",
    "using cengine::ml::KMeans;\n",
    "\n",
    "std::map<uint_t, std::vector<uint_t>> \n",
    "get_classes(const DynVec<uint_t>& labels){\n",
    "\t\n",
    "\tstd::map<uint_t, std::vector<uint_t>> clusters;\n",
    "\t\n",
    "\tfor(uint_t i = 0; i<labels.size(); ++i){\n",
    "\t\t\n",
    "\t\tauto itr = clusters.find(labels[i]);\n",
    "\t\t\n",
    "\t\tif(itr != clusters.end()){\n",
    "\t\t\titr->second.push_back(i);\n",
    "\t\t}\n",
    "\t\telse{\n",
    "\t\t\tstd::vector<uint_t> indexes = {i};\n",
    "\t\t\tclusters.insert({labels[i], indexes});\n",
    "\t\t}\n",
    "\t}\n",
    "\t\n",
    "\treturn clusters;\n",
    "} \n",
    "\n",
    "}\n",
    "\n",
    "int main() {\n",
    "   \n",
    "    using namespace example;\n",
    "    \n",
    "    try{\n",
    "\t\t\n",
    "\t\t\n",
    "\t\tauto data = kernel::load_iris_data_set(false);\n",
    "\t\t\n",
    "\t\tauto classes = get_classes(data.second);\n",
    "\t\t\n",
    "\t\tstd::cout<<kernel::KernelConsts::info_str()<<\"Number of classes=\"<<classes.size()<<std::endl;\n",
    "\n",
    "        std::vector<uint_t> class_keys;\n",
    "        for(auto const& it: classes){\n",
    "            class_keys.push_back(it.first);\n",
    "        }\n",
    "\n",
    "        // create the dataset\n",
    "\t\tkernel::data_structs::DataSetWrapper<DynMat<real_t>> dataset;\n",
    "\t\tdataset.load_from(data.first);\n",
    "\t\t\n",
    "        // configuration for KMeans\n",
    "        cengine::KMeansConfig config(classes.size(), 100);\n",
    "\t\tconfig.set_show_iterations_flag(true);\n",
    "\n",
    "        // the KMeans instance\n",
    "\t\tKMeans<cengine::Cluster<DynVec<real_t>>> clusterer(config);\n",
    "        \n",
    "\t\tkernel::LpMetric<2> metric;\n",
    "\t\t\n",
    "\t\ttypedef DynVec<real_t> point_t;\n",
    "\t\tauto init = [&](const kernel::data_structs::DataSetWrapper<DynMat<real_t>>& data, \n",
    "\t\t                uint_t k, std::vector<point_t>& centroids ){\t\t\t\n",
    "             kernel::extract_randomly(data.get_storage(), centroids, k, false);\n",
    "        };\n",
    "\n",
    "        // cluster the points\n",
    "\t\tauto out = clusterer.cluster(dataset, metric, init);\n",
    "\t\tstd::cout<<out<<std::endl;\n",
    "\t\t\n",
    "\t\t// get the clusters \n",
    "\t\tauto& clusters = clusterer.get_clusters();\n",
    "\t\t\n",
    "        auto purity = 0.0;\n",
    "\n",
    "\t\t// compute the purity for each cluster.\n",
    "        for(uint_t c=0; c<clusters.size(); ++c){\n",
    "\n",
    "            auto& cluster = clusters[c];\n",
    "\n",
    "            // total number of points in cluster\n",
    "            auto cluster_pts = cluster.get_points().size();\n",
    "\n",
    "            auto points_per_class_map = cluster.n_class_points(class_keys, data.second);\n",
    "\n",
    "            auto cluster_purity = cengine::calculate_cluster_purity(points_per_class_map, cluster_pts);\n",
    "\n",
    "            std::cout<<kernel::KernelConsts::info_str()<<\"Cluster=\"<<cluster.get_id()\n",
    "                    <<\" purity=\"<<cluster_purity<<std::endl;\n",
    "\n",
    "            purity += (static_cast<real_t>(cluster_pts)/static_cast<real_t>(dataset.n_rows()))*cluster_purity;\n",
    "        }\n",
    "\n",
    "        std::cout<<kernel::KernelConsts::info_str()<<\"Overall purity=\"<<purity<<std::endl;\n",
    "\n",
    "\n",
    "\n",
    "\t\t\n",
    "    }\n",
    "    catch(std::runtime_error& e){\n",
    "        std::cerr<<\"Runtime error: \"\n",
    "                 <<e.what()<<std::endl;\n",
    "    }\n",
    "    catch(std::logic_error& e){\n",
    "        std::cerr<<\"Logic error: \"\n",
    "                 <<e.what()<<std::endl;\n",
    "    }\n",
    "    catch(...){\n",
    "        std::cerr<<\"Unknown exception was raised whilst running simulation.\"<<std::endl;\n",
    "    }\n",
    "   \n",
    "    return 0;\n",
    "}\n",
    "\n",
    "```"
   ]
  },
  {
   "cell_type": "markdown",
   "metadata": {},
   "source": [
    "## <a name=\"results\"></a> Results\n"
   ]
  },
  {
   "cell_type": "markdown",
   "metadata": {},
   "source": [
    "Upon running the driver code above we get:"
   ]
  },
  {
   "cell_type": "markdown",
   "metadata": {},
   "source": [
    "```\n",
    "INFO: Number of classes=3\n",
    "\tK-means iteration: 1\n",
    "\t\t Residual at teration: 1.78624\n",
    "\tK-means iteration: 2\n",
    "\t\t Residual at teration: 0.636015\n",
    "\tK-means iteration: 3\n",
    "\t\t Residual at teration: 0.20699\n",
    "\tK-means iteration: 4\n",
    "\t\t Residual at teration: 0.0439369\n",
    "\tK-means iteration: 5\n",
    "\t\t Residual at teration: 0.0704197\n",
    "\tK-means iteration: 6\n",
    "\t\t Residual at teration: 0.0324596\n",
    "\tK-means iteration: 7\n",
    "\t\t Residual at teration: 0\n",
    "# iterations:..8\n",
    "# processors:..1\n",
    "# threads:.....1\n",
    "Residual:......0\n",
    "Tolerance:.....1e-08\n",
    "Convergence:...Yes\n",
    "Total time:....0.00824239\n",
    "\n",
    "INFO: Cluster=0 purity=1\n",
    "INFO: Cluster=1 purity=0.923077\n",
    "INFO: Cluster=2 purity=0.770492\n",
    "INFO: Overall purity=0.886667\n",
    "\n",
    "```"
   ]
  },
  {
   "cell_type": "markdown",
   "metadata": {},
   "source": [
    "## <a name=\"source_code\"></a> Source Code\n"
   ]
  },
  {
   "cell_type": "markdown",
   "metadata": {},
   "source": [
    "<a href=\"../exe.cpp\">exe.cpp</a>"
   ]
  }
 ],
 "metadata": {
  "kernelspec": {
   "display_name": "Python 3",
   "language": "python",
   "name": "python3"
  },
  "language_info": {
   "codemirror_mode": {
    "name": "ipython",
    "version": 3
   },
   "file_extension": ".py",
   "mimetype": "text/x-python",
   "name": "python",
   "nbconvert_exporter": "python",
   "pygments_lexer": "ipython3",
   "version": "3.8.5"
  }
 },
 "nbformat": 4,
 "nbformat_minor": 4
}
