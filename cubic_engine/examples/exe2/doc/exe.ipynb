{
 "cells": [
  {
   "cell_type": "markdown",
   "metadata": {},
   "source": [
    "# Example 2: Extended Kalman Filter"
   ]
  },
  {
   "cell_type": "markdown",
   "metadata": {},
   "source": [
    "## Contents\n",
    "* [Acknowledgements](#ackw)\n",
    "* [Overview](#overview) \n",
    "    * [Extended Kalman Filter](#ekf)\n",
    "    * [Summary EKF](#sumekf)\n",
    "    * [Motion Model](#motion_model)\n",
    "    * [Observation Model](#observation_model)\n",
    "* [Include files](#include_files)\n",
    "* [The main function](#m_func)\n",
    "* [Results](#results)\n",
    "* [Source Code](#source_code)"
   ]
  },
  {
   "cell_type": "markdown",
   "metadata": {},
   "source": [
    "## <a name=\"overview\"></a> Overview\n"
   ]
  },
  {
   "cell_type": "markdown",
   "metadata": {},
   "source": [
    "Notebook <a href=\"../../exe1/exe.ipynb\">Kalman Filter</a> discussed the Kalman filter. This filter is an optimal filtering method for linear systems. In this notebook, we will extended the Kalman filter to systems governed by non-linear dynamics. The resulting filter is known as the Extended Kalman Filter or EKF. The discussion below is only meant to be descriptive and we will not go much into details. There are many excellent references around you can further enhance your understanding. Also, the wikipedia entry is   https://en.wikipedia.org/wiki/Extended_Kalman_filter. "
   ]
  },
  {
   "cell_type": "markdown",
   "metadata": {},
   "source": [
    "### <a name=\"ekf\"></a> Extended Kalman Filter"
   ]
  },
  {
   "cell_type": "markdown",
   "metadata": {},
   "source": [
    "Briefly, the EKF is an improvement over the classic Kalman Filter that can be applied to non-linear systems. The crux of the algorithm  remains the predictor-corrector steps just like in the Kalman Filter. In fact to a large extent the two methods are identical. However, the EKF method involves a linearization step of the non-linear system. "
   ]
  },
  {
   "cell_type": "markdown",
   "metadata": {},
   "source": [
    "Thus, in EKF, we linearize the nonlinear system around\n",
    "the Kalman filter estimate, and the Kalman filter estimate is based on the\n",
    "linearized system. This is the idea of the extended Kalman filter (EKF), which\n",
    "was originally proposed by Stanley Schmidt so that the Kalman filter could be\n",
    "applied to nonlinear spacecraft navigation problems."
   ]
  },
  {
   "cell_type": "markdown",
   "metadata": {},
   "source": [
    "In this setting we have the following notation:"
   ]
  },
  {
   "cell_type": "markdown",
   "metadata": {},
   "source": [
    "- $\\mathbf{x}_k$ is the state vector at step $k$\n",
    "- $\\hat{\\mathbf{x}}_k$ is the predicted state vector at step $k$\n",
    "- $\\mathbf{u}_k$ is the control signal vector at step $k$\n",
    "- $\\mathbf{z}_k$ is the sensor measurement vector at step $k$\n",
    "- $f$ is the non-linear function describing the dynamics of the system\n",
    "- $h$ is the non-linear function describing the measurements that is the modeling of the sensors we use\n",
    "- $\\mathbf{P}_k$ is the covariance matrix at step $k$\n",
    "- $\\hat{\\mathbf{P}}_k$ is the predicted covariance matrix at step $k$\n",
    "- $\\mathbf{Q}_k$ is the covariance matrix associated with the control signal at step $k$\n",
    "- $\\mathbf{R}_k$ is the covariance matrix associated with the measurement signal at step $k$\n",
    "- $\\mathbf{K}_k$ is the gain matrix at step k\n",
    "- $\\mathbf{w}_k$ is the error vector associated with the control signal at step k\n",
    "- $\\mathbf{v}_k$ is the error vector associated with the measurement signal at step k"
   ]
  },
  {
   "cell_type": "markdown",
   "metadata": {},
   "source": [
    "We also have the following Jacobian matrices"
   ]
  },
  {
   "cell_type": "markdown",
   "metadata": {},
   "source": [
    "$$\\mathbf{F}_k = \\frac{\\partial f}{\\partial \\mathbf{x}}|_{\\mathbf{x}=\\mathbf{x}_{k-1}}$$"
   ]
  },
  {
   "cell_type": "markdown",
   "metadata": {},
   "source": [
    "$$\\mathbf{L}_k = \\frac{\\partial f}{\\partial \\mathbf{w}}|_{\\mathbf{x}=\\mathbf{x}_{k-1}}$$"
   ]
  },
  {
   "cell_type": "markdown",
   "metadata": {},
   "source": [
    "$$\\mathbf{H}_k = \\frac{\\partial h}{\\partial \\mathbf{x}}|_{\\mathbf{x}=\\mathbf{x}_{k-1}}$$"
   ]
  },
  {
   "cell_type": "markdown",
   "metadata": {},
   "source": [
    "$$\\mathbf{M}_k = \\frac{\\partial h}{\\partial \\mathbf{v}}|_{\\mathbf{x}=\\mathbf{x}_{k-1}}$$"
   ]
  },
  {
   "cell_type": "markdown",
   "metadata": {},
   "source": [
    "### <a name=\"sumekf\"></a> Summary of EKF"
   ]
  },
  {
   "cell_type": "markdown",
   "metadata": {},
   "source": [
    "In summary the EKF algorithm is shown below:"
   ]
  },
  {
   "cell_type": "markdown",
   "metadata": {},
   "source": [
    "**Predict Step**"
   ]
  },
  {
   "cell_type": "markdown",
   "metadata": {},
   "source": [
    "$$\\hat{\\mathbf{x}}_k = f(\\mathbf{x}_{k-1}, \\mathbf{u}_{k}, \\mathbf{0})$$"
   ]
  },
  {
   "cell_type": "markdown",
   "metadata": {},
   "source": [
    "$$\\hat{\\mathbf{P}}_k = \\mathbf{F}_{k-1}\\mathbf{P}_{k-1}\\mathbf{F}^{T}_{k-1} + \\mathbf{L}_{k-1}\\mathbf{Q}_{k-1}\\mathbf{L}^{T}_{k-1}$$"
   ]
  },
  {
   "cell_type": "markdown",
   "metadata": {},
   "source": [
    "**Correct Step**"
   ]
  },
  {
   "cell_type": "markdown",
   "metadata": {},
   "source": [
    "$$\\hat{\\mathbf{K}}_k = \\hat{\\mathbf{P}}_{k}\\mathbf{H}_{k}(\\mathbf{H}_{k}\\hat{\\mathbf{P}}_{k}\\mathbf{H}_{k}^{T} + \\mathbf{M}_{k}\\mathbf{R}_{k}\\mathbf{M}^{T}_{k})^{-1}$$"
   ]
  },
  {
   "cell_type": "markdown",
   "metadata": {},
   "source": [
    "$$\\mathbf{x}_k = \\hat{\\mathbf{x}}_k + \\mathbf{K}_k(\\mathbf{z}_{k} - h(\\hat{\\mathbf{x}}_k,  \\mathbf{0}))$$"
   ]
  },
  {
   "cell_type": "markdown",
   "metadata": {},
   "source": [
    "$$\\mathbf{P}_k = (\\mathbf{I} - \\mathbf{K}_{k}\\mathbf{H}^{T}_{k}) \\hat{\\mathbf{P}}_{k}$$"
   ]
  },
  {
   "cell_type": "markdown",
   "metadata": {},
   "source": [
    "### <a name=\"motion_model\"></a> Motion Model"
   ]
  },
  {
   "cell_type": "markdown",
   "metadata": {},
   "source": [
    "The EKF equations above involve the function $f$ that describes the dynamics of the system. Since we simulate a differential driven vehicle here, we will use the following model."
   ]
  },
  {
   "cell_type": "markdown",
   "metadata": {},
   "source": [
    "if the angular velocity $w$ is zero:"
   ]
  },
  {
   "cell_type": "markdown",
   "metadata": {},
   "source": [
    "$$ x_{k+1} = x_k + (V\\Delta t + w_0)*cos(\\theta_k  + w_1)$$"
   ]
  },
  {
   "cell_type": "markdown",
   "metadata": {},
   "source": [
    "$$ y_{k+1} = y_k + (V\\Delta t + w_0)*sin(\\theta_k  + w_1)$$"
   ]
  },
  {
   "cell_type": "markdown",
   "metadata": {},
   "source": [
    "if the angular velocity $w$ is non zero:"
   ]
  },
  {
   "cell_type": "markdown",
   "metadata": {},
   "source": [
    "$$\\theta_{k+1} = \\theta_k + w*\\Delta t + w_1$$"
   ]
  },
  {
   "cell_type": "markdown",
   "metadata": {},
   "source": [
    "$$x_{k+1} = x_k + (\\frac{V}{w} + w_0)*(sin(\\theta_{k+1}) - sin(\\theta_k))$$"
   ]
  },
  {
   "cell_type": "markdown",
   "metadata": {},
   "source": [
    "$$y_{k+1} = y_k - (\\frac{V}{w} + w_0)*(cos(\\theta_{k+1}) - cos(\\theta_k))$$"
   ]
  },
  {
   "cell_type": "markdown",
   "metadata": {},
   "source": [
    "Note that the model aboves assumes that the error is additive which may not be true."
   ]
  },
  {
   "cell_type": "markdown",
   "metadata": {},
   "source": [
    "### <a name=\"observation_model\"></a> Observation Model"
   ]
  },
  {
   "cell_type": "markdown",
   "metadata": {},
   "source": [
    "We also need an observation model. In this example we will assume that the observation model is the identity function that is it simply reflects back the  input given"
   ]
  },
  {
   "cell_type": "markdown",
   "metadata": {},
   "source": [
    "$$h(\\mathbf{x}, \\mathbf{v}) = \\mathbf{x}$$"
   ]
  },
  {
   "cell_type": "markdown",
   "metadata": {},
   "source": [
    "## <a name=\"include_files\"></a> Include files"
   ]
  },
  {
   "cell_type": "markdown",
   "metadata": {},
   "source": [
    "```\n",
    "#include \"cubic_engine/base/cubic_engine_types.h\"\n",
    "#include \"cubic_engine/estimation/extended_kalman_filter.h\"\n",
    "#include \"kernel/dynamics/diff_drive_dynamics.h\"\n",
    "#include \"kernel/base/angle_calculator.h\"\n",
    "#include \"kernel/utilities/csv_file_writer.h\"\n",
    "#include \"kernel/dynamics/system_state.h\"\n",
    "#include \"kernel/maths/constants.h\"\n",
    "#include \"kernel/base/unit_converter.h\"\n",
    "\n",
    "#include <cmath>\n",
    "#include <iostream>\n",
    "#include <tuple>\n",
    "```"
   ]
  },
  {
   "cell_type": "markdown",
   "metadata": {},
   "source": [
    "## <a name=\"m_func\"></a> The main function"
   ]
  },
  {
   "cell_type": "markdown",
   "metadata": {},
   "source": [
    "```\n",
    "namespace example\n",
    "{\n",
    "\n",
    "using cengine::uint_t;\n",
    "using cengine::real_t;\n",
    "using kernel::dynamics::DiffDriveDynamics;\n",
    "using cengine::ExtendedKalmanFilter;\n",
    "using cengine::DynMat;\n",
    "using cengine::DynVec;\n",
    "using kernel::dynamics::SysState;\n",
    "\n",
    "\n",
    "class ObservationModel\n",
    "{\n",
    "\n",
    "public:\n",
    "\n",
    "    typedef  DynVec<real_t> input_t;\n",
    "\n",
    "    ObservationModel();\n",
    "\n",
    "    // simply return the state\n",
    "    const DynVec<real_t> evaluate(const DynVec<real_t>& input)const;\n",
    "\n",
    "    // get the H or M matrix\n",
    "    const DynMat<real_t>& get_matrix(const std::string& name)const;\n",
    "\n",
    "private:\n",
    "\n",
    "    DynMat<real_t> H;\n",
    "    DynMat<real_t> M;\n",
    "};\n",
    "\n",
    "ObservationModel::ObservationModel()\n",
    "    :\n",
    "      H(2,3, 0.0),\n",
    "      M(2, 2, 0.0)\n",
    "{\n",
    "    H(0, 0) = 1.0;\n",
    "    H(1,1) = 1.0;\n",
    "    M(0,0) = 1.0;\n",
    "    M(1, 1) = 1.0;\n",
    "\n",
    "}\n",
    "\n",
    "const DynVec<real_t>\n",
    "ObservationModel::evaluate(const DynVec<real_t>& input)const{\n",
    "    return input;\n",
    "}\n",
    "\n",
    "const DynMat<real_t>&\n",
    "ObservationModel::get_matrix(const std::string& name)const{\n",
    "    if(name == \"H\"){\n",
    "        return H;\n",
    "    }\n",
    "    else if(name == \"M\"){\n",
    "        return M;\n",
    "    }\n",
    "\n",
    "    throw std::logic_error(\"Invalid matrix name. Name \"+name+ \" not found\");\n",
    "}\n",
    "\n",
    "const DynVec<real_t> get_measurement(const SysState<3>& state){\n",
    "   return DynVec<real_t>({state.get(\"X\"), state.get(\"Y\")});\n",
    "}\n",
    "\n",
    "\n",
    "}\n",
    "\n",
    "int main() {\n",
    "   \n",
    "    using namespace example;\n",
    "    uint_t n_steps = 300;\n",
    "\n",
    "    auto time = 0.0;\n",
    "    auto dt = 0.5;\n",
    "\n",
    "    /// angular velocity\n",
    "    auto w = 0.0;\n",
    "\n",
    "    /// linear velocity\n",
    "    auto vt = 1.0;\n",
    "\n",
    "    std::array<real_t, 2> motion_control_error;\n",
    "    motion_control_error[0] = 0.0;\n",
    "    motion_control_error[1] = 0.0;\n",
    "\n",
    "    DiffDriveDynamics exact_motion_model;\n",
    "    exact_motion_model.set_matrix_update_flag(false);\n",
    "    exact_motion_model.set_time_step(dt);\n",
    "\n",
    "    DiffDriveDynamics motion_model;\n",
    "\n",
    "    motion_model.initialize_matrices({1.0, 0.0, motion_control_error});\n",
    "    motion_model.set_time_step(dt);\n",
    "\n",
    "    ObservationModel observation;\n",
    "\n",
    "    ExtendedKalmanFilter<DiffDriveDynamics, ObservationModel> ekf(motion_model, observation);\n",
    "\n",
    "    DynMat<real_t> R(2, 2, 0.0);\n",
    "    R(0,0) = 1.0;\n",
    "    R(1, 1) = 1.0;\n",
    "\n",
    "    DynMat<real_t> Q(2, 2, 0.0);\n",
    "    Q(0,0) = 0.001;\n",
    "    Q(1, 1) = 0.001;\n",
    "\n",
    "    DynMat<real_t> P(3, 3, 0.0);\n",
    "    P(0, 0) = 1.0;\n",
    "    P(1, 1) = 1.0;\n",
    "    P(2, 2) = 1.0;\n",
    "\n",
    "    ekf.set_matrix(\"P\", P);\n",
    "    ekf.set_matrix(\"R\", R);\n",
    "    ekf.set_matrix(\"Q\", Q);\n",
    "\n",
    "    kernel::CSVWriter writer(\"state\", kernel::CSVWriter::default_delimiter(), true);\n",
    "    std::vector<std::string> names{\"X\", \"Y\", \"X_true\", \"Y_true\"};\n",
    "    writer.write_column_names(names);\n",
    "\n",
    "    try{\n",
    "\n",
    "        uint_t counter=0;\n",
    "        for(uint_t step=0; step < n_steps; ++step){\n",
    "\n",
    "            std::cout<<\"At step: \"<<step<<\" time: \"<<time<<std::endl;\n",
    "\n",
    "            if(counter == 50){\n",
    "              w = kernel::UnitConverter::degrees_to_rad(45.0);\n",
    "            }\n",
    "            else if(counter == 100){\n",
    "               w = kernel::UnitConverter::degrees_to_rad(-45.0);\n",
    "            }\n",
    "            else if(counter == 150){\n",
    "               w = kernel::UnitConverter::degrees_to_rad(-45.0);\n",
    "            }\n",
    "            else{\n",
    "                w = 0.0;\n",
    "            }\n",
    "\n",
    "\n",
    "            auto motion_input = std::make_tuple(vt, w, motion_control_error);\n",
    "            auto& exact_state = exact_motion_model.evaluate(motion_input);\n",
    "\n",
    "            ekf.predict(motion_input);\n",
    "\n",
    "            auto& state = motion_model.get_state();\n",
    "            auto z = get_measurement(state);\n",
    "            ekf.update(z);\n",
    "\n",
    "            std::cout<<\"Position: \"<<ekf.get(\"X\")<<\", \"<<ekf.get(\"Y\")<<std::endl;\n",
    "            std::cout<<\"Orientation: \"<<kernel::UnitConverter::rad_to_degrees(ekf.get(\"Theta\"))<<std::endl;\n",
    "            std::cout<<\"V: \"<<vt<<\", W: \"<<w<<std::endl;\n",
    "\n",
    "            std::vector<real_t> row(4, 0.0);\n",
    "            row[0] = exact_state.get(\"X\");\n",
    "            row[1] = exact_state.get(\"Y\");\n",
    "            row[2] = state.get(\"X\");\n",
    "            row[3] = state.get(\"Y\");\n",
    "            writer.write_row(row);\n",
    "\n",
    "            time += dt;\n",
    "            counter++;\n",
    "        }\n",
    "    }\n",
    "    catch(std::runtime_error& e){\n",
    "        std::cerr<<e.what()<<std::endl;\n",
    "    }\n",
    "    catch(std::logic_error& e){\n",
    "        std::cerr<<e.what()<<std::endl;\n",
    "    }\n",
    "    catch(...){\n",
    "        std::cerr<<\"Unknown exception was raised whilst running simulation.\"<<std::endl;\n",
    "    }\n",
    "   \n",
    "    return 0;\n",
    "}\n",
    "\n",
    "```"
   ]
  },
  {
   "cell_type": "markdown",
   "metadata": {},
   "source": [
    "## <a name=\"results\"></a> Results\n"
   ]
  },
  {
   "cell_type": "markdown",
   "metadata": {},
   "source": [
    "```\n",
    "...\n",
    "At step: 49 time: 24.5\n",
    "Position: 12.5, 0\n",
    "Orientation: 0\n",
    "V: 1, W: 0\n",
    "At step: 50 time: 25\n",
    "Position: 12.7436, 0.0484598\n",
    "Orientation: 22.5\n",
    "V: 1, W: 0.785398\n",
    "At step: 51 time: 25.5\n",
    "Position: 12.9746, 0.144131\n",
    "Orientation: 22.5\n",
    "V: 1, W: 0\n",
    "At step: 52 time: 26\n",
    "Position: 13.2056, 0.239802\n",
    "Orientation: 22.5\n",
    "V: 1, W: 0\n",
    "At step: 53 time: 26.5\n",
    "Position: 13.4365, 0.335472\n",
    "Orientation: 22.5\n",
    "V: 1, W: 0\n",
    "At step: 54 time: 27\n",
    "Position: 13.6675, 0.431143\n",
    "Orientation: 22.5\n",
    "V: 1, W: 0\n",
    "At step: 55 time: 27.5\n",
    "Position: 13.8985, 0.526814\n",
    "Orientation: 22.5\n",
    "V: 1, W: 0\n",
    "At step: 56 time: 28\n",
    "Position: 14.1294, 0.622485\n",
    "Orientation: 22.5\n",
    "V: 1, W: 0\n",
    "At step: 57 time: 28.5\n",
    "Position: 14.3604, 0.718156\n",
    "Orientation: 22.5\n",
    "V: 1, W: 0\n",
    "At step: 58 time: 29\n",
    "Position: 14.5914, 0.813827\n",
    "Orientation: 22.5\n",
    "V: 1, W: 0\n",
    "At step: 59 time: 29.5\n",
    "Position: 14.8224, 0.909498\n",
    "Orientation: 22.5\n",
    "...\n",
    "```"
   ]
  },
  {
   "cell_type": "markdown",
   "metadata": {},
   "source": [
    "<img src=\"movie.gif\"\n",
    "     alt=\"Path view\"\n",
    "     style=\"float: left; margin-right: 10px;\" />"
   ]
  },
  {
   "cell_type": "markdown",
   "metadata": {},
   "source": [
    "## <a name=\"source_code\"></a> Source Code\n"
   ]
  },
  {
   "cell_type": "markdown",
   "metadata": {},
   "source": [
    "<a href=\"../exe.cpp\">exe.cpp</a>"
   ]
  },
  {
   "cell_type": "code",
   "execution_count": null,
   "metadata": {},
   "outputs": [],
   "source": []
  }
 ],
 "metadata": {
  "kernelspec": {
   "display_name": "Python 3",
   "language": "python",
   "name": "python3"
  },
  "language_info": {
   "codemirror_mode": {
    "name": "ipython",
    "version": 3
   },
   "file_extension": ".py",
   "mimetype": "text/x-python",
   "name": "python",
   "nbconvert_exporter": "python",
   "pygments_lexer": "ipython3",
   "version": "3.6.9"
  }
 },
 "nbformat": 4,
 "nbformat_minor": 4
}
