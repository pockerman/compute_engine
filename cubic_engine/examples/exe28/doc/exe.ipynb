{
 "cells": [
  {
   "cell_type": "markdown",
   "metadata": {},
   "source": [
    "# Example 28: Develop a model predictive controller for differential drive system"
   ]
  },
  {
   "cell_type": "markdown",
   "metadata": {},
   "source": [
    "## Contents\n",
    "* [Acknowledgements](#ackw)\n",
    "* [Overview](#overview) \n",
    "    * [Model Predictive Control](#ekf)\n",
    "    * [Summary of MPC](#sumekf)\n",
    "    * [Motion Model](#motion_model)\n",
    "    * [Observation Model](#observation_model)\n",
    "* [Include files](#include_files)\n",
    "* [The main function](#m_func)\n",
    "* [Results](#results)\n",
    "* [Source Code](#source_code)"
   ]
  },
  {
   "cell_type": "markdown",
   "metadata": {},
   "source": [
    "## <a name=\"overview\"></a> Overview"
   ]
  },
  {
   "cell_type": "markdown",
   "metadata": {},
   "source": [
    "In this notebook we will develop a model predictive controller, or MPC, for a differential drive robot. There are many resources one can find around the topic of MPC. "
   ]
  },
  {
   "cell_type": "markdown",
   "metadata": {},
   "source": [
    "### <a name=\"ekf\"></a> Model Predictive Control."
   ]
  },
  {
   "cell_type": "markdown",
   "metadata": {},
   "source": [
    "MPC originated in the late seventies. The term MPC does not designate a specific control strategy but rather a range of control methods which make explicit use of a model of the process to obtain the control signal by minimizing an objective function. These design methods lead to controllers which have practically the same structure and present adequate degrees of freedom. The ideas, appearing in greater or lesser degree in the predictive control family, are basically:"
   ]
  },
  {
   "cell_type": "markdown",
   "metadata": {},
   "source": [
    "- explicit use of a model to predict the process output at future time instants (horizon);\n",
    "\n",
    "- calculation of a control sequence minimizing an objective function; and\n",
    "\n",
    "- receding strategy, so that at each instant the horizon is displaced towards the future, which involves the application of the first control signal of the sequence calculated at each step.\n"
   ]
  },
  {
   "cell_type": "markdown",
   "metadata": {},
   "source": [
    "In very simple terms, a MP controller uses a model of the system in order to make predictions about the system’s future behavior. The way this is done is by solving optimization problem in order to find the optimal control action that drives the predicted output to the reference. In general, the MPC framework  handle multi-input multi-output systems that may have interactions between their inputs and outputs. Furthermore, the framework  can also handle input and output constraints."
   ]
  },
  {
   "cell_type": "markdown",
   "metadata": {},
   "source": [
    "### Basic Ingredients"
   ]
  },
  {
   "cell_type": "markdown",
   "metadata": {},
   "source": [
    "Let's review the basic ingredients needed in order to develop an MPC controller."
   ]
  },
  {
   "cell_type": "markdown",
   "metadata": {},
   "source": [
    "- Prediction model: needed in order to predict plant response to future input sequence\n",
    "- Parameterization: of future input sequence into finite number of parameters\n",
    "- Optimization: of future input sequence\n",
    "- Reference trajectory\n",
    "- Constraints"
   ]
  },
  {
   "cell_type": "markdown",
   "metadata": {},
   "source": [
    "When we use a linear prediction model i.e. a model of the form\n",
    " "
   ]
  },
  {
   "cell_type": "markdown",
   "metadata": {},
   "source": [
    "$$\\mathbf{x}_{k+1} = \\mathbf{A}_{k}\\mathbf{x}_{k} + \\mathbf{B}_{k}\\mathbf{u}_{k}$$"
   ]
  },
  {
   "cell_type": "markdown",
   "metadata": {},
   "source": [
    "then we have a linear MPC. On the other hand when the prediction model in non-linear then we deal with non-linear MPC. "
   ]
  },
  {
   "cell_type": "markdown",
   "metadata": {},
   "source": [
    "#### Assumptions"
   ]
  },
  {
   "cell_type": "markdown",
   "metadata": {},
   "source": [
    "MPC overall uses the following assumptions:"
   ]
  },
  {
   "cell_type": "markdown",
   "metadata": {},
   "source": [
    "- There is no mismatch between the plant model and prediction model\n",
    "- No disturbance inputs\n",
    "- All states are measured\n",
    "- No sensor noise"
   ]
  },
  {
   "cell_type": "code",
   "execution_count": null,
   "metadata": {},
   "outputs": [],
   "source": []
  }
 ],
 "metadata": {
  "kernelspec": {
   "display_name": "Python 3",
   "language": "python",
   "name": "python3"
  },
  "language_info": {
   "codemirror_mode": {
    "name": "ipython",
    "version": 3
   },
   "file_extension": ".py",
   "mimetype": "text/x-python",
   "name": "python",
   "nbconvert_exporter": "python",
   "pygments_lexer": "ipython3",
   "version": "3.7.6"
  }
 },
 "nbformat": 4,
 "nbformat_minor": 4
}
