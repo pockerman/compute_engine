{
 "cells": [
  {
   "cell_type": "markdown",
   "metadata": {},
   "source": [
    "# Example 29: Path Planning with Rapidly-Exploring Random Trees"
   ]
  },
  {
   "cell_type": "markdown",
   "metadata": {},
   "source": [
    "## Contents\n",
    "* [Acknowledgements](#ackw)\n",
    "* [Overview](#overview) \n",
    "    * [Rapidly-Exploring Random Trees](#ekf)\n",
    "    * [Test case](#test_case)\n",
    "* [Include files](#include_files)\n",
    "* [The main function](#m_func)\n",
    "* [Results](#results)\n",
    "* [Source Code](#source_code)"
   ]
  },
  {
   "cell_type": "markdown",
   "metadata": {},
   "source": [
    "## <a name=\"ackw\"></a> Acknowledgements"
   ]
  },
  {
   "cell_type": "markdown",
   "metadata": {},
   "source": [
    "Most of the content in this notebook is taken from wikipedia entry: <a href=\"https://en.wikipedia.org/wiki/Rapidly-exploring_random_tree\">Rapidly-exploring random tree</a>."
   ]
  },
  {
   "cell_type": "markdown",
   "metadata": {},
   "source": [
    "## <a name=\"overview\"></a> Overview"
   ]
  },
  {
   "cell_type": "markdown",
   "metadata": {},
   "source": [
    "In this notebook we discuss Rapidly-Exploring Random Trees or RRTs for short. RRTs were developed by Steven M. LaValle and James J. Kuffner Jr.,  see  <a href=\"http://msl.cs.uiuc.edu/~lavalle/papers/Lav98c.pdf\">Rapidly-Exploring Random Trees: A New Tool For Path Planning</a> and <a href=\"http://www.cs.columbia.edu/~allen/F15/NOTES/LavKuf01rrt.pdf\">Rapidly-Exploring Random Trees: Progress and Prospects</a>. A simple demostration of RRTs can be found <a href=\"https://www.youtube.com/watch?v=Ob3BIJkQJEw\">here</a>."
   ]
  },
  {
   "cell_type": "markdown",
   "metadata": {},
   "source": [
    "### <a name=\"ekf\"></a> Rapidly-exploring random trees"
   ]
  },
  {
   "cell_type": "markdown",
   "metadata": {},
   "source": [
    "RRTs can be viewed as a technique to generate open-loop trajectories for nonlinear systems with state constraints. An RRT can also be considered as a Monte-Carlo method to bias search into the largest Voronoi regions of a graph in a configuration space. "
   ]
  },
  {
   "cell_type": "markdown",
   "metadata": {},
   "source": [
    "An RRT grows a tree rooted at the starting configuration by using random samples from the search space. As each sample is drawn, a connection is attempted between it and the nearest state in the tree. If the connection is feasible (passes entirely through free space and obeys any constraints), this results in the addition of the new state to the tree. With uniform sampling of the search space, the probability of expanding an existing state is proportional to the size of its Voronoi region. As the largest Voronoi regions belong to the states on the frontier of the search, this means that the tree preferentially expands towards large unsearched areas. "
   ]
  },
  {
   "cell_type": "markdown",
   "metadata": {},
   "source": [
    "RRT growth can be biased by increasing the probability of sampling states from a specific area. Most practical implementations of RRTs make use of this to guide the search towards the planning problem goals. This is accomplished by introducing a small probability of sampling the goal to the state sampling procedure. The higher this probability, the more greedily the tree grows towards the goal. "
   ]
  },
  {
   "cell_type": "markdown",
   "metadata": {},
   "source": [
    "The algorithm, taken from <a href=\"http://msl.cs.uiuc.edu/~lavalle/papers/Lav98c.pdf\">Rapidly-Exploring Random Trees: A New Tool For Path Planning</a>, describes the basic construction of an RRT"
   ]
  },
  {
   "cell_type": "markdown",
   "metadata": {},
   "source": [
    "<figure>\n",
    "<img src=\"basic_rrt.png\" alt=\"Generate RRT algorithm\"\n",
    "\ttitle=\"Generate RRT algorithm\" width=\"500\" height=\"450\" />\n",
    "<figcaption>Figure: Generate RRT algorithm. Image from Rapidly-Exploring Random Trees: A New Tool For Path Planning.</figcaption>\n",
    "</figure>"
   ]
  },
  {
   "cell_type": "markdown",
   "metadata": {},
   "source": [
    "### Test case"
   ]
  },
  {
   "cell_type": "markdown",
   "metadata": {},
   "source": [
    "For the test case we will consider a square domain $[0,50]\\times[0,50]$. The initial position of the agent is at $[25.0, 25.0]$. The test case will allow the tree to grow on the positive 45 degrees direction of the starting position. This is done by using the following dynamics function:"
   ]
  },
  {
   "cell_type": "markdown",
   "metadata": {},
   "source": [
    "```\n",
    "auto dynamics = [](const SysState<2>& s1, const SysState<2>& s2){\n",
    "           SysState<2> s;\n",
    "           s.set(0, {\"X\", 0.0});\n",
    "           s.set(1, {\"Y\", 0.0});\n",
    "           s[\"X\"] = s1[\"X\"] + 0.5;\n",
    "           s[\"Y\"] = s1[\"Y\"] + 0.5;\n",
    "           return std::make_tuple(s, DynVec<real_t>(2, 0.0));\n",
    "        };\n",
    "```"
   ]
  },
  {
   "cell_type": "markdown",
   "metadata": {},
   "source": [
    "This will not produce the following tree (note that in order to plot the tree you need <a href=\"https://networkx.github.io/documentation/networkx-2.4/index.html\">NetworkX</a> Python library) "
   ]
  },
  {
   "cell_type": "markdown",
   "metadata": {},
   "source": [
    "<img src=\"line_rrt.png\"\n",
    "     alt=\"Line RRT\"\n",
    "     style=\"float: left; margin-right: 10px; width: 500px;\" />"
   ]
  },
  {
   "cell_type": "markdown",
   "metadata": {},
   "source": [
    "Obviously, this is not something really exciting but it is a starting point for testing our code. Using the following dynamics: "
   ]
  },
  {
   "cell_type": "markdown",
   "metadata": {},
   "source": [
    "``` \n",
    "    auto dynamics = [](const SysState<2>& s1, const SysState<2>& s2){\n",
    "       SysState<2> s;\n",
    "       s.set(0, {\"X\", 0.0});\n",
    "       s.set(1, {\"Y\", 0.0});\n",
    "       s[\"X\"] = s1[\"X\"] + (s2[\"X\"] - s1[\"X\"]);\n",
    "       s[\"Y\"] = s1[\"Y\"] + (s2[\"Y\"] - s1[\"Y\"]);\n",
    "\n",
    "       return std::make_tuple(s, DynVec<real_t>(2, 0.0));\n",
    "    };\n",
    "```"
   ]
  },
  {
   "cell_type": "markdown",
   "metadata": {},
   "source": [
    "We have the following tress with 50, 100 and 1000 nodes respectivelly"
   ]
  },
  {
   "cell_type": "markdown",
   "metadata": {},
   "source": [
    "<img src=\"rrt_50.png\"\n",
    "     alt=\"RRT 50 nodes\"\n",
    "     style=\"float: left; margin-right: 10px; width: 500px;\" />"
   ]
  },
  {
   "cell_type": "markdown",
   "metadata": {},
   "source": [
    "<img src=\"rrt_100.png\"\n",
    "     alt=\"RRT 100 nodes\"\n",
    "     style=\"float: left; margin-right: 10px; width: 500px;\" />"
   ]
  },
  {
   "cell_type": "markdown",
   "metadata": {},
   "source": [
    "<img src=\"rrt_1000.png\"\n",
    "     alt=\"RRT 1000 nodes\"\n",
    "     style=\"float: left; margin-right: 10px; width: 500px;\" />"
   ]
  },
  {
   "cell_type": "markdown",
   "metadata": {},
   "source": [
    "In the second test case we will try to actually build a path using RRT. Again, we will use a square domain $[0,50]\\times[0,50]$. The initial position of the agent is at $[25.0, 25.0]$. Now the dynamics is described by the following lambda function"
   ]
  },
  {
   "cell_type": "markdown",
   "metadata": {},
   "source": [
    "```\n",
    "\n",
    "auto dynamics = [](const SysState<2>& s1, const SysState<2>& s2){\n",
    "           SysState<2> s;\n",
    "           s.set(0, {\"X\", 0.0});\n",
    "           s.set(1, {\"Y\", 0.0});\n",
    "           s[\"X\"] = s1[\"X\"] + 0.5;\n",
    "           s[\"Y\"] = s1[\"Y\"] + 0.5;\n",
    "           return std::make_tuple(s, DynVec<real_t>(2, 0.0));\n",
    "        };\n",
    "\n",
    "```"
   ]
  },
  {
   "cell_type": "markdown",
   "metadata": {},
   "source": [
    "## <a name=\"include_files\"></a> Include files"
   ]
  },
  {
   "cell_type": "markdown",
   "metadata": {},
   "source": [
    "```\n",
    "#include \"cubic_engine/base/cubic_engine_types.h\"\n",
    "#include \"cubic_engine/search/rapidly_exploring_random_tree.h\"\n",
    "#include \"kernel/utilities/csv_file_writer.h\"\n",
    "#include \"kernel/dynamics/system_state.h\"\n",
    "#include \"kernel/maths/constants.h\"\n",
    "#include \"kernel/base/unit_converter.h\"\n",
    "#include \"kernel/utilities/common_uitls.h\"\n",
    "\n",
    "#include <cmath>\n",
    "#include <iostream>\n",
    "#include <vector>\n",
    "#include <random>\n",
    "#include <string>\n",
    "#include <fstream>\n",
    "\n",
    "```"
   ]
  },
  {
   "cell_type": "markdown",
   "metadata": {},
   "source": [
    "## <a name=\"m_func\"></a> The main function"
   ]
  },
  {
   "cell_type": "markdown",
   "metadata": {},
   "source": [
    "```\n",
    "namespace example\n",
    "{\n",
    "\n",
    "using cengine::uint_t;\n",
    "using cengine::real_t;\n",
    "using cengine::DynMat;\n",
    "using cengine::DynVec;\n",
    "using cengine::search::RRT;\n",
    "using kernel::dynamics::SysState;\n",
    "\n",
    "const real_t TOL = 1.0e-8;\n",
    "const real_t DT = 0.5;\n",
    "const uint_t Nx = 50;\n",
    "const uint_t Ny = 50;\n",
    "const real_t Dx = 50.0/Nx;\n",
    "const real_t xstart = 0.0;\n",
    "const real_t Dy = 50.0/Ny;\n",
    "const real_t ystart = 0.0;\n",
    "\n",
    "typedef std::vector<SysState<2>> world_t;\n",
    "\n",
    "// create the world\n",
    "void create_world(world_t& world){\n",
    "\n",
    "    world.resize(Nx*Ny);\n",
    "\n",
    "    uint_t counter = 0;\n",
    "    for(uint_t i =0; i<Nx; ++i){\n",
    "        for(uint_t j=0; j<Ny; ++j){\n",
    "          auto& state = world[counter++];\n",
    "          state.set(0, {\"X\", xstart + i*Dx});\n",
    "          state.set(1, {\"Y\", ystart + j*Dy});\n",
    "        }\n",
    "    }\n",
    "}\n",
    "\n",
    "void save_vertices(const RRT<SysState<2>, DynVec<real_t>>& rrt,\n",
    "                   const std::string& filename){\n",
    "\n",
    "    // open the file stream\n",
    "    std::ofstream file;\n",
    "    file.open(filename, std::ios_base::out);\n",
    "\n",
    "    for(uint_t v=0; v<rrt.n_vertices(); ++v){\n",
    "        auto& vertex = rrt.get_vertex(v);\n",
    "        auto x = vertex.data.get(\"X\");\n",
    "        auto y = vertex.data.get(\"Y\");\n",
    "        file<<vertex.id<<\",\"<<x<<\",\"<<y<<std::endl;\n",
    "\n",
    "    }\n",
    "    file.close();\n",
    "}\n",
    "\n",
    "void save_connections(const RRT<SysState<2>, DynVec<real_t>>& rrt,\n",
    "                      const std::string& filename){\n",
    "\n",
    "    // open the file stream\n",
    "    std::ofstream file;\n",
    "    file.open(filename, std::ios_base::out);\n",
    "\n",
    "    for(uint_t v=0; v<rrt.n_vertices(); ++v){\n",
    "\n",
    "        auto vneighs = rrt.get_vertex_neighbors(v);\n",
    "        auto& vertex = rrt.get_vertex(v);\n",
    "        auto start = vneighs.first;\n",
    "        auto end = vneighs.second;\n",
    "\n",
    "        file<<vertex.id<<\",\";\n",
    "        while(start != end){\n",
    "            auto& neigh = rrt.get_vertex(start);\n",
    "\n",
    "            if (boost::next(start) != end){\n",
    "                    file<<neigh.id<<\",\";\n",
    "            }\n",
    "            else{\n",
    "               file<<neigh.id<<\"\\n\";\n",
    "            }\n",
    "\n",
    "            ++start;\n",
    "        }\n",
    "    }\n",
    "\n",
    "    file.close();\n",
    "\n",
    "}\n",
    "\n",
    "void test_1(){\n",
    "\n",
    "    world_t world;\n",
    "\n",
    "    // create the nodes of the world\n",
    "    create_world(world);\n",
    "\n",
    "    std::cout<<\"For test_1 world size: \"<<world.size()<<std::endl;\n",
    "\n",
    "    // how to select a state from the world\n",
    "    auto state_selector = [&world](){\n",
    "\n",
    "        std::random_device rd;\n",
    "        std::mt19937 gen(rd());\n",
    "        std::uniform_int_distribution<> distrib(0, world.size()-1);\n",
    "        return world[distrib(gen)];\n",
    "    };\n",
    "\n",
    "\n",
    "    // compute the dynamics of the model. The tree simply\n",
    "    // grows in the 45 degrees diagonal\n",
    "    auto dynamics = [](const SysState<2>& s1, const SysState<2>& s2){\n",
    "       SysState<2> s;\n",
    "       s.set(0, {\"X\", 0.0});\n",
    "       s.set(1, {\"Y\", 0.0});\n",
    "       s[\"X\"] = s1[\"X\"] + 0.5;\n",
    "       s[\"Y\"] = s1[\"Y\"] + 0.5;\n",
    "       return std::make_tuple(s, DynVec<real_t>(2, 0.0));\n",
    "    };\n",
    "\n",
    "    // simply use l2 norm as the difference between\n",
    "    // the two states\n",
    "    auto metric = [](const SysState<2>& s1, const SysState<2>& s2 ){\n",
    "        return l2Norm(s1.as_vector()-s2.as_vector());\n",
    "    };\n",
    "\n",
    "    // build the rrt\n",
    "    SysState<2> xinit;\n",
    "    xinit.set(0, {\"X\", 25.0});\n",
    "    xinit.set(1, {\"Y\", 25.0});\n",
    "\n",
    "    RRT<SysState<2>, DynVec<real_t>> rrt;\n",
    "    rrt.set_show_iterations_flag(true);\n",
    "    rrt.build(world.size(), xinit, state_selector, metric, dynamics);\n",
    "    save_vertices(rrt, \"rrt_test_1.txt\");\n",
    "    save_connections(rrt, \"rrt_connections_test_1.txt\");\n",
    "}\n",
    "\n",
    "void test_2(){\n",
    "\n",
    "    world_t world;\n",
    "\n",
    "    // create the nodes of the world\n",
    "    create_world(world);\n",
    "\n",
    "    std::cout<<\"For test_1 world size: \"<<world.size()<<std::endl;\n",
    "\n",
    "    // how to select a state from the world\n",
    "    auto state_selector = [&world](){\n",
    "\n",
    "        std::random_device rd;\n",
    "        std::mt19937 gen(rd());\n",
    "        std::uniform_int_distribution<> distrib(0, world.size()-1);\n",
    "        return world[distrib(gen)];\n",
    "    };\n",
    "\n",
    "    // compute the dynamics of the model.\n",
    "    auto dynamics = [](const SysState<2>& s1, const SysState<2>& s2){\n",
    "       SysState<2> s;\n",
    "       s.set(0, {\"X\", 0.0});\n",
    "       s.set(1, {\"Y\", 0.0});\n",
    "       s[\"X\"] = s1[\"X\"] + (s2[\"X\"] - s1[\"X\"]);\n",
    "       s[\"Y\"] = s1[\"Y\"] + (s2[\"Y\"] - s1[\"Y\"]);\n",
    "\n",
    "       return std::make_tuple(s, DynVec<real_t>(2, 0.0));\n",
    "    };\n",
    "\n",
    "    // simply use l2 norm as the difference between\n",
    "    // the two states\n",
    "    auto metric = [](const SysState<2>& s1, const SysState<2>& s2 ){\n",
    "        return l2Norm(s1.as_vector()-s2.as_vector());\n",
    "    };\n",
    "\n",
    "    // build the rrt\n",
    "    SysState<2> xinit;\n",
    "    xinit.set(0, {\"X\", 25.0});\n",
    "    xinit.set(1, {\"Y\", 25.0});\n",
    "\n",
    "    RRT<SysState<2>, DynVec<real_t>> rrt;\n",
    "    rrt.set_show_iterations_flag(true);\n",
    "    rrt.build(1000, xinit, state_selector, metric, dynamics);\n",
    "    save_vertices(rrt, \"rrt_test_2.txt\");\n",
    "    save_connections(rrt, \"rrt_connections_test_2.txt\");\n",
    "\n",
    "}\n",
    "\n",
    "}\n",
    "\n",
    "int main() {\n",
    "   \n",
    "    using namespace example;\n",
    "\n",
    "    try{\n",
    "\n",
    "        //test_1();\n",
    "        test_2();\n",
    "\n",
    "    }\n",
    "    catch(std::runtime_error& e){\n",
    "        std::cerr<<\"Runtime error: \"\n",
    "                 <<e.what()<<std::endl;\n",
    "    }\n",
    "    catch(std::logic_error& e){\n",
    "        std::cerr<<\"Logic error: \"\n",
    "                 <<e.what()<<std::endl;\n",
    "    }\n",
    "    catch(...){\n",
    "        std::cerr<<\"Unknown exception was raised whilst running simulation.\"<<std::endl;\n",
    "    }\n",
    "   \n",
    "    return 0;\n",
    "}\n",
    "\n",
    "```"
   ]
  },
  {
   "cell_type": "markdown",
   "metadata": {},
   "source": [
    "## <a name=\"results\"></a> Results"
   ]
  },
  {
   "cell_type": "markdown",
   "metadata": {},
   "source": [
    "As already mentioned in the introduction of this notebook, the first test case does not produce something very exciting."
   ]
  },
  {
   "cell_type": "markdown",
   "metadata": {},
   "source": [
    "<img src=\"line_rrt.png\"\n",
    "     alt=\"Line RRT\"\n",
    "     style=\"float: left; margin-right: 10px; width: 500px;\" />"
   ]
  },
  {
   "cell_type": "markdown",
   "metadata": {},
   "source": [
    "## <a name=\"source_code\"></a> Source Code"
   ]
  },
  {
   "cell_type": "markdown",
   "metadata": {},
   "source": [
    "<a href=\"../exe.cpp\">exe.cpp</a>"
   ]
  }
 ],
 "metadata": {
  "kernelspec": {
   "display_name": "Python 3",
   "language": "python",
   "name": "python3"
  },
  "language_info": {
   "codemirror_mode": {
    "name": "ipython",
    "version": 3
   },
   "file_extension": ".py",
   "mimetype": "text/x-python",
   "name": "python",
   "nbconvert_exporter": "python",
   "pygments_lexer": "ipython3",
   "version": "3.6.9"
  }
 },
 "nbformat": 4,
 "nbformat_minor": 4
}
