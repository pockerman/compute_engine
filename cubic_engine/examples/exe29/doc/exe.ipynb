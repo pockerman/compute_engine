{
 "cells": [
  {
   "cell_type": "markdown",
   "metadata": {},
   "source": [
    "# Example 29: Path Planning with Rapidly-Exploring Random Trees"
   ]
  },
  {
   "cell_type": "markdown",
   "metadata": {},
   "source": [
    "In this notebook we discuss Rapidly-Exploring Random Trees or RRTs for short. RRTs were developed by \n",
    "see  <a href=\"http://msl.cs.uiuc.edu/~lavalle/papers/Lav98c.pdf\">Rapidly-Exploring Random Trees: A New Tool For Path Planning</a> and <a href=\"http://www.cs.columbia.edu/~allen/F15/NOTES/LavKuf01rrt.pdf\">Rapidly-Exploring Random Trees: Progress and Prospects</a>"
   ]
  },
  {
   "cell_type": "markdown",
   "metadata": {},
   "source": [
    "### Test case"
   ]
  },
  {
   "cell_type": "markdown",
   "metadata": {},
   "source": [
    "For the test case we will consider a square domain $[0,100]\\times[0,100]$. The initial position of the agent is at $[50.0, 50.0]$"
   ]
  },
  {
   "cell_type": "code",
   "execution_count": null,
   "metadata": {},
   "outputs": [],
   "source": []
  }
 ],
 "metadata": {
  "kernelspec": {
   "display_name": "Python 3",
   "language": "python",
   "name": "python3"
  },
  "language_info": {
   "codemirror_mode": {
    "name": "ipython",
    "version": 3
   },
   "file_extension": ".py",
   "mimetype": "text/x-python",
   "name": "python",
   "nbconvert_exporter": "python",
   "pygments_lexer": "ipython3",
   "version": "3.7.6"
  }
 },
 "nbformat": 4,
 "nbformat_minor": 4
}
