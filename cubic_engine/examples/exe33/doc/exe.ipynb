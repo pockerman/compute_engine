{
 "cells": [
  {
   "cell_type": "markdown",
   "metadata": {},
   "source": [
    "# Example 33: Bisection KMeans Algorithm"
   ]
  },
  {
   "cell_type": "markdown",
   "metadata": {},
   "source": [
    "## Contents"
   ]
  },
  {
   "cell_type": "markdown",
   "metadata": {},
   "source": [
    "* [Acknowledgements](#ackw)\n",
    "* [Overview](#overview) \n",
    "    * [Bisection KMeans algorithm](#ekf)\n",
    "* [Include files](#include_files)\n",
    "* [The main function](#m_func)\n",
    "* [Results](#results)\n",
    "* [Source Code](#source_code)"
   ]
  },
  {
   "cell_type": "markdown",
   "metadata": {},
   "source": [
    "## <a name=\"overview\"></a> Overview\n"
   ]
  },
  {
   "cell_type": "markdown",
   "metadata": {},
   "source": [
    "This example  we will discuss Principal Component Analysis</a> for dimensionality reduction."
   ]
  },
  {
   "cell_type": "markdown",
   "metadata": {},
   "source": [
    "## <a name=\"include_files\"></a> Include files"
   ]
  },
  {
   "cell_type": "markdown",
   "metadata": {},
   "source": [
    "```\n",
    "#include \"cubic_engine/base/cubic_engine_types.h\"\n",
    "#include \"cubic_engine/ml/unsupervised_learning/bisection_k_means.h\"\n",
    "#include \"cubic_engine/ml/unsupervised_learning/utils/cluster.h\"\n",
    "#include \"cubic_engine/ml/unsupervised_learning/utils/kmeans_control.h\"\n",
    "#include \"kernel/utilities/data_set_loaders.h\"\n",
    "#include \"kernel/maths/matrix_traits.h\"\n",
    "#include \"kernel/data_structs/data_set_wrapper.hpp\"\n",
    "#include \"kernel/maths/lp_metric.h\"\n",
    "#include \"kernel/maths/matrix_utilities.h\"\n",
    "\n",
    "#include <iostream>\n",
    "\n",
    "```"
   ]
  },
  {
   "cell_type": "markdown",
   "metadata": {},
   "source": [
    "## <a name=\"m_func\"></a> The main function"
   ]
  },
  {
   "cell_type": "markdown",
   "metadata": {},
   "source": [
    "```\n",
    "namespace example\n",
    "{\n",
    "\n",
    "using cengine::uint_t;\n",
    "using cengine::real_t;\n",
    "using cengine::DynMat;\n",
    "using cengine::DynVec;\n",
    "using cengine::ml::BisectionKMeans;\n",
    "\n",
    "}\n",
    "\n",
    "int main() {\n",
    "   \n",
    "    using namespace example;\n",
    "    \n",
    "    try{\n",
    "\t\t\n",
    "\t\tauto dataloader = [](DynMat<real_t>& set){\n",
    "\t\t\tkernel::load_random_set_one(set);\n",
    "\t\t};\n",
    "\t\t\n",
    "\t\t\n",
    "\t\t\n",
    "\t\tkernel::data_structs::DataSetWrapper<DynMat<real_t>> dataset;\n",
    "\t\tdataset.load_from(dataloader);\n",
    "\t\t\n",
    "        cengine::KMeansConfig config(5, 100);\n",
    "\t\tconfig.set_show_iterations_flag(true);\n",
    "\t\tBisectionKMeans<cengine::Cluster<DynVec<real_t>>> clusterer(config);\n",
    "        \n",
    "\t\tkernel::LpMetric<2> metric;\n",
    "\t\t\n",
    "\t\ttypedef DynVec<real_t> point_t;\n",
    "\t\tauto init = [&](const DynMat<real_t>& data, uint_t k, std::vector<point_t>& centroids ){\n",
    "             kernel::extract_randomly(data, centroids, k, false);\n",
    "        };\n",
    "\n",
    "\t\tauto out = clusterer.cluster(dataset, metric, init);\n",
    "\t\tstd::cout<<out<<std::endl;\n",
    "\t\t\n",
    "\t\t// get the clusters \n",
    "\t\tauto& clusters = clusterer.get_clusters();\n",
    "\t\t\n",
    "    }\n",
    "    catch(std::runtime_error& e){\n",
    "        std::cerr<<\"Runtime error: \"\n",
    "                 <<e.what()<<std::endl;\n",
    "    }\n",
    "    catch(std::logic_error& e){\n",
    "        std::cerr<<\"Logic error: \"\n",
    "                 <<e.what()<<std::endl;\n",
    "    }\n",
    "    catch(...){\n",
    "        std::cerr<<\"Unknown exception was raised whilst running simulation.\"<<std::endl;\n",
    "    }\n",
    "   \n",
    "    return 0;\n",
    "}\n",
    "\n",
    "\n",
    "```"
   ]
  },
  {
   "cell_type": "markdown",
   "metadata": {},
   "source": [
    "## <a name=\"results\"></a> Results\n"
   ]
  },
  {
   "cell_type": "markdown",
   "metadata": {},
   "source": [
    "Upon running the driver code above we get:"
   ]
  },
  {
   "cell_type": "markdown",
   "metadata": {},
   "source": [
    "```\n",
    "INFO: BKMeans iteration: 1\n",
    "\t\tINFO: Number of clusters created: 1 of 5\n",
    "\tK-means iteration: 1\n",
    "\t\t Residual at teration: 16.8455\n",
    "\tK-means iteration: 2\n",
    "\t\t Residual at teration: 3.14953\n",
    "\tK-means iteration: 3\n",
    "\t\t Residual at teration: 1.0253\n",
    "\tK-means iteration: 4\n",
    "\t\t Residual at teration: 1.18341\n",
    "\tK-means iteration: 5\n",
    "\t\t Residual at teration: 1.66346\n",
    "\tK-means iteration: 6\n",
    "\t\t Residual at teration: 2.42833\n",
    "\tK-means iteration: 7\n",
    "\t\t Residual at teration: 4.78173\n",
    "\tK-means iteration: 8\n",
    "\t\t Residual at teration: 5.08156\n",
    "\tK-means iteration: 9\n",
    "\t\t Residual at teration: 2.73962\n",
    "\tK-means iteration: 10\n",
    "\t\t Residual at teration: 1.02218\n",
    "\tK-means iteration: 11\n",
    "\t\t Residual at teration: 0.579462\n",
    "\tK-means iteration: 12\n",
    "\t\t Residual at teration: 1.07559\n",
    "\tK-means iteration: 13\n",
    "\t\t Residual at teration: 0\n",
    "\tINFO: BKMeans iteration: 2\n",
    "\t\tINFO: Number of clusters created: 2 of 5\n",
    "\tK-means iteration: 1\n",
    "\t\t Residual at teration: 25.256\n",
    "\tK-means iteration: 2\n",
    "\t\t Residual at teration: 3.24753\n",
    "\tK-means iteration: 3\n",
    "\t\t Residual at teration: 0.971697\n",
    "\tK-means iteration: 4\n",
    "\t\t Residual at teration: 0\n",
    "\tINFO: BKMeans iteration: 3\n",
    "\t\tINFO: Number of clusters created: 3 of 5\n",
    "\tK-means iteration: 1\n",
    "\t\t Residual at teration: 7.17903\n",
    "\tK-means iteration: 2\n",
    "\t\t Residual at teration: 6.9429\n",
    "\tK-means iteration: 3\n",
    "\t\t Residual at teration: 0\n",
    "\tINFO: BKMeans iteration: 4\n",
    "\t\tINFO: Number of clusters created: 4 of 5\n",
    "\tK-means iteration: 1\n",
    "\t\t Residual at teration: 12.9882\n",
    "\tK-means iteration: 2\n",
    "\t\t Residual at teration: 1.7879\n",
    "\tK-means iteration: 3\n",
    "\t\t Residual at teration: 0\n",
    "\tINFO: Finished clustering\n",
    "\tINFO: Number of clusters created: 5 of 5\n",
    "# iterations:..4\n",
    "# processors:..1\n",
    "# threads:.....1\n",
    "Residual:......1.79769e+308\n",
    "Tolerance:.....1e-08\n",
    "Convergence:...Yes\n",
    "Total time:....0.00444771\n",
    "\n",
    "```"
   ]
  },
  {
   "cell_type": "markdown",
   "metadata": {},
   "source": [
    "## <a name=\"source_code\"></a> Source Code\n"
   ]
  },
  {
   "cell_type": "markdown",
   "metadata": {},
   "source": [
    "<a href=\"../exe.cpp\">exe.cpp</a>"
   ]
  }
 ],
 "metadata": {
  "kernelspec": {
   "display_name": "Python 3",
   "language": "python",
   "name": "python3"
  },
  "language_info": {
   "codemirror_mode": {
    "name": "ipython",
    "version": 3
   },
   "file_extension": ".py",
   "mimetype": "text/x-python",
   "name": "python",
   "nbconvert_exporter": "python",
   "pygments_lexer": "ipython3",
   "version": "3.8.5"
  }
 },
 "nbformat": 4,
 "nbformat_minor": 4
}
