{
 "cells": [
  {
   "cell_type": "markdown",
   "metadata": {},
   "source": [
    "# Example 1: Kalman Filter"
   ]
  },
  {
   "cell_type": "markdown",
   "metadata": {},
   "source": [
    "## Contents\n",
    "* [Acknowledgements](#ackw)\n",
    "* [Overview](#overview) \n",
    "    * [Kalman Filter](#kf)\n",
    "    * [Summary Kalman Filter](#sumekf)\n",
    "    * [Motion Model](#motion_model)\n",
    "    * [Observation Model](#observation_model)\n",
    "* [Include files](#include_files)\n",
    "* [The main function](#m_func)\n",
    "* [Results](#results)\n",
    "* [Source Code](#source_code)"
   ]
  },
  {
   "cell_type": "markdown",
   "metadata": {},
   "source": [
    "## <a name=\"overview\"></a> Overview"
   ]
  },
  {
   "cell_type": "markdown",
   "metadata": {},
   "source": [
    "### <a name=\"kf\"></a> Kalman Filter"
   ]
  },
  {
   "cell_type": "markdown",
   "metadata": {},
   "source": [
    "### <a name=\"sumekf\"></a> Summary of Kalman Filter"
   ]
  },
  {
   "cell_type": "markdown",
   "metadata": {},
   "source": [
    "**Prediction Step:**"
   ]
  },
  {
   "cell_type": "markdown",
   "metadata": {},
   "source": [
    "$$ \\hat{\\mathbf{x}}_{k} = F_k \\mathbf{x}_{k-1} + B_k   \\mathbf{u}_k + \\mathbf{w}_k$$\n",
    "    "
   ]
  },
  {
   "cell_type": "markdown",
   "metadata": {},
   "source": [
    "$$\\hat{\\mathbf{P}}_{k} = \\mathbf{F}_{k-1}  \\mathbf{P}_{k-1}  \\mathbf{F}_{k-1}^T +  \\mathbf{Q}_{k-1}$$"
   ]
  },
  {
   "cell_type": "markdown",
   "metadata": {},
   "source": [
    "**Update Step:**"
   ]
  },
  {
   "cell_type": "markdown",
   "metadata": {},
   "source": [
    "$$\\mathbf{K}_k = \\hat{\\mathbf{P}}_{k}  \\mathbf{H}_{k}^T  (\\mathbf{H}_k  \\hat{\\mathbf{P}}_{k}  \\mathbf{H}_{k}^T +  \\mathbf{R}_k )^{-1}$$"
   ]
  },
  {
   "cell_type": "markdown",
   "metadata": {},
   "source": [
    "$$\\mathbf{x}_k = \\hat{\\mathbf{x}}_{k} + \\mathbf{K}_k  (\\mathbf{z}_k - \\mathbf{H}_k  \\hat{\\mathbf{x}}_{k})$$"
   ]
  },
  {
   "cell_type": "markdown",
   "metadata": {},
   "source": [
    "$$\\mathbf{P}_k = (\\mathbf{I} - \\mathbf{K}_k  \\mathbf{H}_k)  \\hat{\\mathbf{P}}_{k}$$"
   ]
  },
  {
   "cell_type": "markdown",
   "metadata": {},
   "source": [
    "### <a name=\"motion_model\"></a> Motion Model"
   ]
  },
  {
   "cell_type": "markdown",
   "metadata": {},
   "source": [
    "### <a name=\"observation_model\"></a> Observation Model"
   ]
  },
  {
   "cell_type": "markdown",
   "metadata": {},
   "source": [
    "## <a name=\"include_files\"></a> Include files"
   ]
  },
  {
   "cell_type": "markdown",
   "metadata": {},
   "source": [
    "```\n",
    "#include \"cubic_engine/base/cubic_engine_types.h\"\n",
    "#include \"cubic_engine/estimation/kalman_filter.h\"\n",
    "#include \"kernel/dynamics/motion_model_base.h\"\n",
    "#include \"kernel/dynamics/dynamics_matrix_descriptor.h\"\n",
    "#include \"kernel/dynamics/system_state.h\"\n",
    "#include \"kernel/maths/statistics/multivariate_normal_distribution.h\"\n",
    "#include \"kernel/utilities/csv_file_writer.h\"\n",
    "\n",
    "#include <iostream>\n",
    "#include <random>\n",
    "```"
   ]
  },
  {
   "cell_type": "markdown",
   "metadata": {},
   "source": [
    "## <a name=\"m_func\"></a> The main function"
   ]
  },
  {
   "cell_type": "markdown",
   "metadata": {},
   "source": [
    "```\n",
    "namespace example\n",
    "{\n",
    "\n",
    "using cengine::real_t;\n",
    "using cengine::uint_t;\n",
    "using cengine::DynMat;\n",
    "using cengine::DynVec;\n",
    "using cengine::DiagMat;\n",
    "using cengine::KalmanFilter;\n",
    "using kernel::dynamics::MotionModelBase;\n",
    "using kernel::dynamics::DynamicsMatrixDescriptor;\n",
    "using kernel::dynamics::SysState;\n",
    "using kernel::maths::stats::MultiNormalDist;\n",
    "using kernel::CSVWriter;\n",
    "\n",
    "const uint_t N_ITRS = 1000;\n",
    "const real_t DT = 0.5;\n",
    "const real_t U0 = -2.0;\n",
    "\n",
    "class MotionModel: public MotionModelBase<SysState<2>,\n",
    "                                          DynamicsMatrixDescriptor, DynVec<real_t>>\n",
    "{\n",
    "\n",
    "public:\n",
    "\n",
    "    typedef MotionModelBase<SysState<2>,\n",
    "                            DynamicsMatrixDescriptor, DynVec<real_t>>::input_t input_t;\n",
    "\n",
    "    typedef MotionModelBase<SysState<2>,\n",
    "                            DynamicsMatrixDescriptor, DynVec<real_t>>::state_t state_t;\n",
    "\n",
    "\n",
    "    /// Updates and returns the value of the state given the input\n",
    "    virtual state_t& evaluate(const input_t& /*input*/)override final\n",
    "    {throw std::logic_error(\"Not Implemented\");}\n",
    "\n",
    "private:\n",
    "};\n",
    "\n",
    "\n",
    "class ObservationModel\n",
    "{\n",
    "\n",
    "public:\n",
    "\n",
    "    typedef real_t input_t;\n",
    "\n",
    "    /// constructor\n",
    "    ObservationModel();\n",
    "\n",
    "    /// Observe\n",
    "    real_t evaluate(const DynVec<real_t>& input);\n",
    "\n",
    "    /// brief Return the matrix\n",
    "    const DynMat<real_t>& get_matrix(const std::string& /*name*/)const{\n",
    "        return H_;\n",
    "    }\n",
    "\n",
    "private:\n",
    "\n",
    "    /// the white noise for the observation\n",
    "    std::normal_distribution<real_t> distribution_;\n",
    "\n",
    "    /// The matrix H\n",
    "    DynMat<real_t> H_;\n",
    "\n",
    "};\n",
    "\n",
    "ObservationModel::ObservationModel()\n",
    "    :\n",
    "    distribution_ (0.0,0.05),\n",
    "    H_(1,2,0.0)\n",
    "{\n",
    "    H_(0,0) = 1.0;\n",
    "    H_(0,1) = 0.0;\n",
    "}\n",
    "\n",
    "real_t\n",
    "ObservationModel::evaluate(const DynVec<real_t>& input){\n",
    "\n",
    "    std::random_device rd;\n",
    "    std::mt19937 gen(rd());\n",
    "    auto error = distribution_(gen);\n",
    "    return 2.2; //(H_ * input)[0] + error;\n",
    "\n",
    "}\n",
    "\n",
    "\n",
    "}\n",
    "\n",
    "int main() {\n",
    "\n",
    "    using namespace example;\n",
    "\n",
    "    std::cout<<\"Running Example\"<<std::endl;\n",
    "\n",
    "    MotionModel motion_model;\n",
    "    DynMat<real_t> F(2, 2, 0.0);\n",
    "    F(0,0) = 1.0;\n",
    "    F(0, 1) = DT;\n",
    "    F(1, 0) = 0.0;\n",
    "    F(1, 1) = 1.0;\n",
    "\n",
    "    motion_model.set_matrix(\"F\", F);\n",
    "\n",
    "    /// the object that handles the error distribution\n",
    "    MultiNormalDist dist_error(DynVec<real_t>(2, 0.0), DiagMat<real_t>(2,0.1) );\n",
    "\n",
    "    DynVec<real_t> mu_init(2, 0.0);\n",
    "    mu_init[1] = 5.0;\n",
    "\n",
    "    DiagMat<real_t> sigma_init(2,0.01);\n",
    "    sigma_init(1,1)=1;\n",
    "\n",
    "    /// the initial data\n",
    "    MultiNormalDist init_data(mu_init, sigma_init );\n",
    "\n",
    "    /// the initial state\n",
    "    auto state_0 = init_data.sample();\n",
    "\n",
    "    motion_model.set_state_name_value(0, \"P\", state_0[0]);\n",
    "    motion_model.set_state_name_value(1, \"V\", state_0[1]);\n",
    "\n",
    "    ObservationModel obs_model;\n",
    "\n",
    "    KalmanFilter<MotionModel, ObservationModel> kf(motion_model, obs_model);\n",
    "\n",
    "    DynMat<real_t> P(2, 2, 0.0);\n",
    "    P(0, 0) = 1.0;\n",
    "    P(1, 1) = 1.0;\n",
    "\n",
    "    kf.set_matrix(\"P\", P);\n",
    "\n",
    "    DynMat<real_t> Q(2, 2, 0.0);\n",
    "    Q(0, 0) = 0.1;\n",
    "    Q(1, 1) = 0.1;\n",
    "\n",
    "    kf.set_matrix(\"Q\", Q);\n",
    "\n",
    "    DynMat<real_t> B(2, 1, 0.0);\n",
    "    B(0, 0) = 0.0;\n",
    "    B(1, 0) = DT;\n",
    "    kf.set_matrix(\"B\", B);\n",
    "\n",
    "    DynMat<real_t> R(1, 1, 0.05);\n",
    "    kf.set_matrix(\"R\", R);\n",
    "\n",
    "    CSVWriter writer(\"state.csv\", ',', true);\n",
    "    std::vector<std::string> names{\"Time\", \"P\", \"V\"};\n",
    "    writer.write_column_names(names);\n",
    "    real_t time = 0.0;\n",
    "\n",
    "    for(uint_t itr=0; itr<N_ITRS; ++itr){\n",
    "\n",
    "        std::cout<<\"At time: \"<<time<<std::endl;\n",
    "        auto& state = kf.get_state();\n",
    "\n",
    "        std::cout<<\"State: \"<<state.as_string()<<std::endl;\n",
    "\n",
    "        auto obs = obs_model.evaluate(state.as_vector());\n",
    "        DynVec<real_t> error = dist_error.sample();\n",
    "        kf.estimate(std::make_tuple(DynVec<real_t>(1,U0), error, obs));\n",
    "\n",
    "        writer.write_row(std::make_tuple(time, state.get(\"P\"), state.get(\"V\")));\n",
    "\n",
    "        time += DT;\n",
    "    }\n",
    "    \n",
    "    return 0;\n",
    "}\n",
    "\n",
    "```"
   ]
  },
  {
   "cell_type": "markdown",
   "metadata": {},
   "source": [
    "## <a name=\"results\"></a> Results"
   ]
  },
  {
   "cell_type": "markdown",
   "metadata": {},
   "source": [
    "```\n",
    "Running Example\n",
    "At time: 0\n",
    "State: P:0.215814,V:6.660757,\n",
    "At time: 0.5\n",
    "State: P:2.241234,V:5.248414,\n",
    "At time: 1\n",
    "State: P:2.454916,V:1.808499,\n",
    "At time: 1.5\n",
    "State: P:2.272105,V:0.364620,\n",
    "At time: 2\n",
    "State: P:2.251736,V:-0.861922,\n",
    "At time: 2.5\n",
    "State: P:2.127780,V:-1.590895,\n",
    "At time: 3\n",
    "State: P:2.034480,V:-2.006121,\n",
    "At time: 3.5\n",
    "State: P:2.010868,V:-2.352556,\n",
    "At time: 4\n",
    "State: P:1.990048,V:-2.632724,\n",
    "At time: 4.5\n",
    "State: P:1.849978,V:-2.435943,\n",
    "At time: 5\n",
    "State: P:1.834766,V:-2.188333,\n",
    "At time: 5.5\n",
    "State: P:1.905250,V:-2.181821,\n",
    "At time: 6\n",
    "State: P:2.076366,V:-2.759683,\n",
    "At time: 6.5\n",
    "State: P:1.940992,V:-2.875358,\n",
    "At time: 7\n",
    "State: P:2.041201,V:-3.333179,\n",
    "At time: 7.5\n",
    "State: P:1.647069,V:-2.445351,\n",
    "At time: 8\n",
    "State: P:1.962734,V:-2.635273,\n",
    "At time: 8.5\n",
    "State: P:1.961377,V:-2.820562,\n",
    "At time: 9\n",
    "State: P:1.889299,V:-2.759763,\n",
    "At time: 9.5\n",
    "State: P:1.937315,V:-2.862902,\n",
    "At time: 10\n",
    "State: P:1.794920,V:-2.479872,\n",
    "At time: 10.5\n",
    "State: P:1.961276,V:-2.664818,\n",
    "At time: 11\n",
    "State: P:1.889018,V:-2.603060,\n",
    "At time: 11.5\n",
    "State: P:1.990974,V:-2.889402,\n",
    "At time: 12\n",
    "State: P:1.889364,V:-2.828824,\n",
    "At time: 12.5\n",
    "State: P:1.801871,V:-2.469528,\n",
    "At time: 13\n",
    "State: P:1.947506,V:-2.607460,\n",
    "At time: 13.5\n",
    "State: P:2.040997,V:-3.064588,\n",
    "At time: 14\n",
    "State: P:1.915349,V:-3.092727,\n",
    "At time: 14.5\n",
    "State: P:1.936567,V:-3.193309,\n",
    "At time: 15\n",
    "State: P:1.895654,V:-3.154206,\n",
    "At time: 15.5\n",
    "State: P:1.737708,V:-2.575843,\n",
    "At time: 16\n",
    "State: P:1.991729,V:-2.864762,\n",
    "At time: 16.5\n",
    "State: P:2.062718,V:-3.396053,\n",
    "At time: 17\n",
    "State: P:1.951227,V:-3.546688,\n",
    "At time: 17.5\n",
    "State: P:1.787524,V:-3.138407,\n",
    "At time: 18\n",
    "State: P:1.869159,V:-3.008847,\n",
    "At time: 18.5\n",
    "State: P:1.733467,V:-2.416003,\n",
    "At time: 19\n",
    "State: P:1.899036,V:-2.388449,\n",
    "At time: 19.5\n",
    "State: P:2.078601,V:-2.973967,\n",
    "At time: 20\n",
    "State: P:1.957949,V:-3.147552,\n",
    "At time: 20.5\n",
    "State: P:1.903696,V:-3.135908,\n",
    "At time: 21\n",
    "State: P:1.870398,V:-3.010575,\n",
    "At time: 21.5\n",
    "State: P:1.831857,V:-2.753655,\n",
    "At time: 22\n",
    "...\n",
    "\n",
    "```"
   ]
  },
  {
   "cell_type": "markdown",
   "metadata": {},
   "source": [
    "<img src=\"pos_vel.png\"\n",
    "     alt=\"Position/Velocity vs Time\"\n",
    "     style=\"float: left; margin-right: 10px;\" />"
   ]
  },
  {
   "cell_type": "markdown",
   "metadata": {},
   "source": [
    "## <a name=\"source_code\"></a> Source Code"
   ]
  },
  {
   "cell_type": "markdown",
   "metadata": {},
   "source": [
    "<a href=\"../exe.cpp\">exe.cpp</a>"
   ]
  },
  {
   "cell_type": "code",
   "execution_count": null,
   "metadata": {},
   "outputs": [],
   "source": []
  }
 ],
 "metadata": {
  "kernelspec": {
   "display_name": "Python 3",
   "language": "python",
   "name": "python3"
  },
  "language_info": {
   "codemirror_mode": {
    "name": "ipython",
    "version": 3
   },
   "file_extension": ".py",
   "mimetype": "text/x-python",
   "name": "python",
   "nbconvert_exporter": "python",
   "pygments_lexer": "ipython3",
   "version": "3.7.6"
  }
 },
 "nbformat": 4,
 "nbformat_minor": 4
}
